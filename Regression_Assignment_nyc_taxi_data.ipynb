{
  "nbformat": 4,
  "nbformat_minor": 0,
  "metadata": {
    "colab": {
      "provenance": [],
      "include_colab_link": true
    },
    "kernelspec": {
      "name": "python3",
      "display_name": "Python 3"
    },
    "language_info": {
      "name": "python"
    },
    "gpuClass": "standard"
  },
  "cells": [
    {
      "cell_type": "markdown",
      "metadata": {
        "id": "view-in-github",
        "colab_type": "text"
      },
      "source": [
        "<a href=\"https://colab.research.google.com/github/KKranthi6881/MachineLearning/blob/master/Regression_Assignment_nyc_taxi_data.ipynb\" target=\"_parent\"><img src=\"https://colab.research.google.com/assets/colab-badge.svg\" alt=\"Open In Colab\"/></a>"
      ]
    },
    {
      "cell_type": "markdown",
      "source": [
        "# Import Library"
      ],
      "metadata": {
        "id": "DUFu83jC-fwa"
      }
    },
    {
      "cell_type": "code",
      "source": [
        "import pandas as pd\n",
        "from tqdm import tqdm\n",
        "import seaborn as sns\n",
        "import matplotlib.pyplot as plt\n",
        "import seaborn as sns\n",
        "from sklearn.model_selection import train_test_split\n",
        "from sklearn.linear_model import LogisticRegression\n",
        "from sklearn.metrics import accuracy_score, confusion_matrix, classification_report\n",
        "from sklearn.metrics import precision_score, recall_score, f1_score, roc_auc_score, roc_curve\n",
        "from sklearn.preprocessing import StandardScaler\n",
        "import numpy as np\n",
        "from sklearn.model_selection import train_test_split, GridSearchCV\n",
        "from sklearn.preprocessing import OneHotEncoder\n",
        "from sklearn.linear_model import LinearRegression\n",
        "from sklearn.metrics import mean_squared_error, r2_score\n",
        "from sklearn.preprocessing import OneHotEncoder\n",
        "from sklearn.model_selection import KFold\n",
        "pd.set_option('display.max_colwidth', None)\n",
        "import warnings\n",
        "from sklearn.exceptions import ConvergenceWarning\n",
        "warnings.filterwarnings(\"ignore\", category=ConvergenceWarning)\n",
        "import numpy as np\n",
        "from sklearn.linear_model import Ridge, LinearRegression\n",
        "from sklearn.model_selection import train_test_split\n",
        "from sklearn.metrics import mean_squared_error"
      ],
      "metadata": {
        "id": "_NFUn1sbRv_x"
      },
      "execution_count": 37,
      "outputs": []
    },
    {
      "cell_type": "markdown",
      "source": [
        "# Read Data From Google Drive"
      ],
      "metadata": {
        "id": "7mVNM4yo-kNt"
      }
    },
    {
      "cell_type": "code",
      "source": [
        "from google.colab import drive\n",
        "drive.mount('/content/drive', force_remount=True)"
      ],
      "metadata": {
        "id": "_pjbWheI_hyQ",
        "outputId": "cbe644f2-6c77-4cd2-c07d-b052d0f613e7",
        "colab": {
          "base_uri": "https://localhost:8080/"
        }
      },
      "execution_count": 38,
      "outputs": [
        {
          "output_type": "stream",
          "name": "stdout",
          "text": [
            "Mounted at /content/drive\n"
          ]
        }
      ]
    },
    {
      "cell_type": "markdown",
      "source": [
        "In this assignment, you are tasked with predicting the fare amount (inclusive of tolls) for a taxi ride in New York City given the pickup and dropoff locations. You can get a basic estimate based on just the distance between the two points, this will result in an RMSE of $5-$8.\n",
        "\n",
        "This is a large dataset something which is not covered yet in the class  but feel free to to look at the various techniques used to handle it.\n",
        "\n"
      ],
      "metadata": {
        "id": "1B0xncBfQGqO"
      }
    },
    {
      "cell_type": "markdown",
      "source": [
        "   **Task**: Load the first 100,000 rows of data from the `train.csv` file located in the taxi dataset link on your uplevel. Skip the first row and use the second row as the header. Store the data in a variable named 'data'."
      ],
      "metadata": {
        "id": "28AW5sd5GGQI"
      }
    },
    {
      "cell_type": "code",
      "source": [
        "# Replace the file_path with the path to your train.csv file\n",
        "file_path = \"/content/drive/My Drive/Colab Notebooks/Datasets/train.csv\"\n",
        "data = pd.read_csv(file_path, header=0, nrows=100000)"
      ],
      "metadata": {
        "id": "aQk2tjvkRHcJ"
      },
      "execution_count": 73,
      "outputs": []
    },
    {
      "cell_type": "markdown",
      "source": [
        "# EDA & Feature Engineering"
      ],
      "metadata": {
        "id": "ocwm_2Tg-sc1"
      }
    },
    {
      "cell_type": "markdown",
      "source": [
        "## Summary statistics and missing values"
      ],
      "metadata": {
        "id": "Ub6hD-V3UA1q"
      }
    },
    {
      "cell_type": "code",
      "source": [
        "data.info()\n",
        "#data[data[\"fare_amount\"] < 0]\n",
        "#data.describe()"
      ],
      "metadata": {
        "id": "JT0j7WlKUCye",
        "colab": {
          "base_uri": "https://localhost:8080/"
        },
        "outputId": "8d0b8cc5-b0c2-4175-f9a4-2d9e382f6232"
      },
      "execution_count": 40,
      "outputs": [
        {
          "output_type": "stream",
          "name": "stdout",
          "text": [
            "<class 'pandas.core.frame.DataFrame'>\n",
            "RangeIndex: 100000 entries, 0 to 99999\n",
            "Data columns (total 8 columns):\n",
            " #   Column             Non-Null Count   Dtype  \n",
            "---  ------             --------------   -----  \n",
            " 0   key                100000 non-null  object \n",
            " 1   fare_amount        100000 non-null  float64\n",
            " 2   pickup_datetime    100000 non-null  object \n",
            " 3   pickup_longitude   100000 non-null  float64\n",
            " 4   pickup_latitude    100000 non-null  float64\n",
            " 5   dropoff_longitude  100000 non-null  float64\n",
            " 6   dropoff_latitude   100000 non-null  float64\n",
            " 7   passenger_count    100000 non-null  int64  \n",
            "dtypes: float64(5), int64(1), object(2)\n",
            "memory usage: 6.1+ MB\n"
          ]
        }
      ]
    },
    {
      "cell_type": "code",
      "source": [
        "# Check for missing values\n",
        "data.isnull().sum()"
      ],
      "metadata": {
        "id": "4kp-6F9yUS1k",
        "colab": {
          "base_uri": "https://localhost:8080/"
        },
        "outputId": "d09d123c-285c-459f-a38b-7491b66c51a0"
      },
      "execution_count": 41,
      "outputs": [
        {
          "output_type": "execute_result",
          "data": {
            "text/plain": [
              "key                  0\n",
              "fare_amount          0\n",
              "pickup_datetime      0\n",
              "pickup_longitude     0\n",
              "pickup_latitude      0\n",
              "dropoff_longitude    0\n",
              "dropoff_latitude     0\n",
              "passenger_count      0\n",
              "dtype: int64"
            ]
          },
          "metadata": {},
          "execution_count": 41
        }
      ]
    },
    {
      "cell_type": "code",
      "source": [
        "# Drop the rows with missing values\n",
        "data.dropna(inplace=True)"
      ],
      "metadata": {
        "id": "LXwHOa0QUfaH"
      },
      "execution_count": 42,
      "outputs": []
    },
    {
      "cell_type": "code",
      "source": [
        "# Drop the rows with missing values\n",
        "len(data)"
      ],
      "metadata": {
        "id": "xHs9UHaEUiJK",
        "colab": {
          "base_uri": "https://localhost:8080/"
        },
        "outputId": "5a7c080f-377a-4a3e-cac9-25f1ee676521"
      },
      "execution_count": 43,
      "outputs": [
        {
          "output_type": "execute_result",
          "data": {
            "text/plain": [
              "100000"
            ]
          },
          "metadata": {},
          "execution_count": 43
        }
      ]
    },
    {
      "cell_type": "code",
      "source": [
        "# Check for missing values\n",
        "data.isnull().sum()"
      ],
      "metadata": {
        "id": "DTh3HLLJUzXX",
        "colab": {
          "base_uri": "https://localhost:8080/"
        },
        "outputId": "195b1915-1d5e-4bf7-a1f0-e3235e39d7e5"
      },
      "execution_count": 44,
      "outputs": [
        {
          "output_type": "execute_result",
          "data": {
            "text/plain": [
              "key                  0\n",
              "fare_amount          0\n",
              "pickup_datetime      0\n",
              "pickup_longitude     0\n",
              "pickup_latitude      0\n",
              "dropoff_longitude    0\n",
              "dropoff_latitude     0\n",
              "passenger_count      0\n",
              "dtype: int64"
            ]
          },
          "metadata": {},
          "execution_count": 44
        }
      ]
    },
    {
      "cell_type": "code",
      "source": [
        "# remove value where fare < 0\n",
        "data = data[data[\"fare_amount\"] > 0]"
      ],
      "metadata": {
        "id": "q3SMAjtsU1Hq"
      },
      "execution_count": 74,
      "outputs": []
    },
    {
      "cell_type": "code",
      "source": [
        "len(data)"
      ],
      "metadata": {
        "id": "vlA9R14OVByY",
        "colab": {
          "base_uri": "https://localhost:8080/"
        },
        "outputId": "88ac7dac-7615-496f-e972-f12c18db1cdb"
      },
      "execution_count": 75,
      "outputs": [
        {
          "output_type": "execute_result",
          "data": {
            "text/plain": [
              "99988"
            ]
          },
          "metadata": {},
          "execution_count": 75
        }
      ]
    },
    {
      "cell_type": "markdown",
      "source": [
        "**Task**: Convert the `pickup_datetime` column in the 'data' DataFrame to datetime type. Then, extract the year, month, day, and hour from the `pickup_datetime` column and create new columns named 'year', 'month', 'day', and 'hour' in the DataFrame"
      ],
      "metadata": {
        "id": "rIoSWli-JmxK"
      }
    },
    {
      "cell_type": "code",
      "source": [
        "# Convert the pickup_datetime column to datetime type\n",
        "data['pickup_datetime'] = pd.to_datetime(data['pickup_datetime'])\n",
        "\n",
        "# Extract year, month, day, and hour from the pickup_datetime column\n",
        "data['year'] =  data['pickup_datetime'].dt.year ## TODO - write your solution here\n",
        "data['month'] = data['pickup_datetime'].dt.month ## TODO - write your solution here\n",
        "data['day'] =  data['pickup_datetime'].dt.day ## TODO - write your solution here\n",
        "data['hour'] =  data['pickup_datetime'].dt.hour ## TODO - write your solution here"
      ],
      "metadata": {
        "id": "jrn-vjq5VMhy"
      },
      "execution_count": 76,
      "outputs": []
    },
    {
      "cell_type": "markdown",
      "source": [
        "## Distance Calculation"
      ],
      "metadata": {
        "id": "0PzsQiu2Vg5B"
      }
    },
    {
      "cell_type": "markdown",
      "source": [
        "We will calculate distance with Haversine Formula\n",
        "\n",
        "Pros of Haversine Formula:\n",
        "1. Accuracy: The Haversine formula is more accurate for calculating distances between two points on the Earth's surface, as it takes into account the Earth's curvature.\n",
        "2. Applicability: The Haversine formula is specifically designed for calculating great-circle distances on a sphere, making it suitable for geospatial applications, such as navigation and geodesy.\n",
        "3. Consistent results: The Haversine formula provides consistent results for distances on a global scale, whereas the Euclidean distance can produce significant errors when used for long distances.\n",
        "\n",
        "Cons of Haversine Formula:\n",
        "1. Complexity: The Haversine formula is more complex than the Euclidean distance, requiring trigonometric functions and additional calculations.\n",
        "2. Performance: Due to its complexity, the Haversine formula can be slower to compute than the Euclidean distance, especially when dealing with large datasets.\n",
        "3. Assumptions: The Haversine formula assumes a perfect sphere, while the Earth is more of an oblate spheroid. This can lead to some inaccuracies, especially at high latitudes."
      ],
      "metadata": {
        "id": "SMe9nCnGV2cC"
      }
    },
    {
      "cell_type": "code",
      "source": [
        "!pip install haversine"
      ],
      "metadata": {
        "id": "a1MBW2GQWQiN",
        "colab": {
          "base_uri": "https://localhost:8080/"
        },
        "outputId": "4a97b22d-d556-4d9c-ed74-9ac02822b95e"
      },
      "execution_count": 49,
      "outputs": [
        {
          "output_type": "stream",
          "name": "stdout",
          "text": [
            "Requirement already satisfied: haversine in /usr/local/lib/python3.10/dist-packages (2.8.1)\n"
          ]
        }
      ]
    },
    {
      "cell_type": "code",
      "source": [
        "# Calculate the distance between pickup and dropoff coordinates using haversine formula\n",
        "from haversine import haversine"
      ],
      "metadata": {
        "id": "wQYZJ42IWKB8"
      },
      "execution_count": 50,
      "outputs": []
    },
    {
      "cell_type": "markdown",
      "source": [
        "**Task**: Write a function named `calculate_distance` that takes a row from the DataFrame as input. The function should calculate the distance between the pickup and dropoff coordinates using the haversine formula. The input row has the following columns: 'pickup_latitude', 'pickup_longitude', 'dropoff_latitude', and 'dropoff_longitude'. Return the calculated distance."
      ],
      "metadata": {
        "id": "ljaQXUp4Lq5V"
      }
    },
    {
      "cell_type": "code",
      "source": [
        " def calculate_distance(row):\n",
        "       if(row['pickup_latitude'] > 90 or row['pickup_longitude'] > 90 or row['dropoff_latitude'] > 90 or row['dropoff_longitude'] > 90 ):\n",
        "        \"\"\" print(row['pickup_latitude'])\n",
        "        print(row['pickup_longitude'])\n",
        "        print(row['dropoff_latitude'])\n",
        "        print(row['dropoff_longitude']) \"\"\"\n",
        "        pass\n",
        "       else:\n",
        "           pickup = (row['pickup_latitude'],row['pickup_longitude'])\n",
        "           dropOff = (row['dropoff_latitude'],row['dropoff_longitude'])\n",
        "       #print(pickup)\n",
        "           distance = haversine(pickup, dropOff )\n",
        "       #pass\n",
        "           return distance\n",
        "       #return haversine(pickup, dropoff)"
      ],
      "metadata": {
        "id": "1yuFHjn3WEB1"
      },
      "execution_count": 77,
      "outputs": []
    },
    {
      "cell_type": "code",
      "source": [
        "data = data[(data['pickup_latitude'] <= 90) & (data['pickup_latitude'] >= -90 )]\n",
        "data = data[(data['pickup_longitude'] <= 90) & (data['pickup_longitude'] >= -90 )]\n",
        "data = data[(data['dropoff_latitude'] <= 90) & (data['dropoff_latitude'] >= -90 )]\n",
        "data = data[(data['dropoff_longitude'] <= 90) & (data['dropoff_longitude'] >= -90 )]"
      ],
      "metadata": {
        "id": "tP2ioaN_4ZRP"
      },
      "execution_count": 78,
      "outputs": []
    },
    {
      "cell_type": "code",
      "source": [
        "data.info()"
      ],
      "metadata": {
        "colab": {
          "base_uri": "https://localhost:8080/"
        },
        "id": "QIw-WzC_589X",
        "outputId": "787bdf11-7845-4dd2-a412-af0d08603a1e"
      },
      "execution_count": 79,
      "outputs": [
        {
          "output_type": "stream",
          "name": "stdout",
          "text": [
            "<class 'pandas.core.frame.DataFrame'>\n",
            "Int64Index: 99985 entries, 0 to 99999\n",
            "Data columns (total 12 columns):\n",
            " #   Column             Non-Null Count  Dtype              \n",
            "---  ------             --------------  -----              \n",
            " 0   key                99985 non-null  object             \n",
            " 1   fare_amount        99985 non-null  float64            \n",
            " 2   pickup_datetime    99985 non-null  datetime64[ns, UTC]\n",
            " 3   pickup_longitude   99985 non-null  float64            \n",
            " 4   pickup_latitude    99985 non-null  float64            \n",
            " 5   dropoff_longitude  99985 non-null  float64            \n",
            " 6   dropoff_latitude   99985 non-null  float64            \n",
            " 7   passenger_count    99985 non-null  int64              \n",
            " 8   year               99985 non-null  int64              \n",
            " 9   month              99985 non-null  int64              \n",
            " 10  day                99985 non-null  int64              \n",
            " 11  hour               99985 non-null  int64              \n",
            "dtypes: datetime64[ns, UTC](1), float64(5), int64(5), object(1)\n",
            "memory usage: 9.9+ MB\n"
          ]
        }
      ]
    },
    {
      "cell_type": "code",
      "source": [
        "\n",
        "\n",
        "data['distance'] = data.apply(calculate_distance, axis=1)\n",
        "\n",
        "# Drop the key and pickup_datetime columns as they are not needed for EDA\n",
        "data.drop(['key', 'pickup_datetime'], axis=1, inplace=True)"
      ],
      "metadata": {
        "id": "C6zgTSdeWdpL"
      },
      "execution_count": 80,
      "outputs": []
    },
    {
      "cell_type": "code",
      "source": [
        "data.head()"
      ],
      "metadata": {
        "colab": {
          "base_uri": "https://localhost:8080/",
          "height": 226
        },
        "id": "E63cF0yBp1AW",
        "outputId": "6e2e1220-24b8-42fe-abac-22c870d280e3"
      },
      "execution_count": 81,
      "outputs": [
        {
          "output_type": "execute_result",
          "data": {
            "text/plain": [
              "   fare_amount  pickup_longitude  pickup_latitude  dropoff_longitude  \\\n",
              "0          4.5        -73.844311        40.721319         -73.841610   \n",
              "1         16.9        -74.016048        40.711303         -73.979268   \n",
              "2          5.7        -73.982738        40.761270         -73.991242   \n",
              "3          7.7        -73.987130        40.733143         -73.991567   \n",
              "4          5.3        -73.968095        40.768008         -73.956655   \n",
              "\n",
              "   dropoff_latitude  passenger_count  year  month  day  hour  distance  \n",
              "0         40.712278                1  2009      6   15    17  1.030765  \n",
              "1         40.782004                1  2010      1    5    16  8.450145  \n",
              "2         40.750562                2  2011      8   18     0  1.389527  \n",
              "3         40.758092                1  2012      4   21     4  2.799274  \n",
              "4         40.783762                1  2010      3    9     7  1.999160  "
            ],
            "text/html": [
              "\n",
              "  <div id=\"df-2b0a7b98-5f53-4fe2-adfe-8559fb499477\" class=\"colab-df-container\">\n",
              "    <div>\n",
              "<style scoped>\n",
              "    .dataframe tbody tr th:only-of-type {\n",
              "        vertical-align: middle;\n",
              "    }\n",
              "\n",
              "    .dataframe tbody tr th {\n",
              "        vertical-align: top;\n",
              "    }\n",
              "\n",
              "    .dataframe thead th {\n",
              "        text-align: right;\n",
              "    }\n",
              "</style>\n",
              "<table border=\"1\" class=\"dataframe\">\n",
              "  <thead>\n",
              "    <tr style=\"text-align: right;\">\n",
              "      <th></th>\n",
              "      <th>fare_amount</th>\n",
              "      <th>pickup_longitude</th>\n",
              "      <th>pickup_latitude</th>\n",
              "      <th>dropoff_longitude</th>\n",
              "      <th>dropoff_latitude</th>\n",
              "      <th>passenger_count</th>\n",
              "      <th>year</th>\n",
              "      <th>month</th>\n",
              "      <th>day</th>\n",
              "      <th>hour</th>\n",
              "      <th>distance</th>\n",
              "    </tr>\n",
              "  </thead>\n",
              "  <tbody>\n",
              "    <tr>\n",
              "      <th>0</th>\n",
              "      <td>4.5</td>\n",
              "      <td>-73.844311</td>\n",
              "      <td>40.721319</td>\n",
              "      <td>-73.841610</td>\n",
              "      <td>40.712278</td>\n",
              "      <td>1</td>\n",
              "      <td>2009</td>\n",
              "      <td>6</td>\n",
              "      <td>15</td>\n",
              "      <td>17</td>\n",
              "      <td>1.030765</td>\n",
              "    </tr>\n",
              "    <tr>\n",
              "      <th>1</th>\n",
              "      <td>16.9</td>\n",
              "      <td>-74.016048</td>\n",
              "      <td>40.711303</td>\n",
              "      <td>-73.979268</td>\n",
              "      <td>40.782004</td>\n",
              "      <td>1</td>\n",
              "      <td>2010</td>\n",
              "      <td>1</td>\n",
              "      <td>5</td>\n",
              "      <td>16</td>\n",
              "      <td>8.450145</td>\n",
              "    </tr>\n",
              "    <tr>\n",
              "      <th>2</th>\n",
              "      <td>5.7</td>\n",
              "      <td>-73.982738</td>\n",
              "      <td>40.761270</td>\n",
              "      <td>-73.991242</td>\n",
              "      <td>40.750562</td>\n",
              "      <td>2</td>\n",
              "      <td>2011</td>\n",
              "      <td>8</td>\n",
              "      <td>18</td>\n",
              "      <td>0</td>\n",
              "      <td>1.389527</td>\n",
              "    </tr>\n",
              "    <tr>\n",
              "      <th>3</th>\n",
              "      <td>7.7</td>\n",
              "      <td>-73.987130</td>\n",
              "      <td>40.733143</td>\n",
              "      <td>-73.991567</td>\n",
              "      <td>40.758092</td>\n",
              "      <td>1</td>\n",
              "      <td>2012</td>\n",
              "      <td>4</td>\n",
              "      <td>21</td>\n",
              "      <td>4</td>\n",
              "      <td>2.799274</td>\n",
              "    </tr>\n",
              "    <tr>\n",
              "      <th>4</th>\n",
              "      <td>5.3</td>\n",
              "      <td>-73.968095</td>\n",
              "      <td>40.768008</td>\n",
              "      <td>-73.956655</td>\n",
              "      <td>40.783762</td>\n",
              "      <td>1</td>\n",
              "      <td>2010</td>\n",
              "      <td>3</td>\n",
              "      <td>9</td>\n",
              "      <td>7</td>\n",
              "      <td>1.999160</td>\n",
              "    </tr>\n",
              "  </tbody>\n",
              "</table>\n",
              "</div>\n",
              "    <div class=\"colab-df-buttons\">\n",
              "\n",
              "  <div class=\"colab-df-container\">\n",
              "    <button class=\"colab-df-convert\" onclick=\"convertToInteractive('df-2b0a7b98-5f53-4fe2-adfe-8559fb499477')\"\n",
              "            title=\"Convert this dataframe to an interactive table.\"\n",
              "            style=\"display:none;\">\n",
              "\n",
              "  <svg xmlns=\"http://www.w3.org/2000/svg\" height=\"24px\" viewBox=\"0 -960 960 960\">\n",
              "    <path d=\"M120-120v-720h720v720H120Zm60-500h600v-160H180v160Zm220 220h160v-160H400v160Zm0 220h160v-160H400v160ZM180-400h160v-160H180v160Zm440 0h160v-160H620v160ZM180-180h160v-160H180v160Zm440 0h160v-160H620v160Z\"/>\n",
              "  </svg>\n",
              "    </button>\n",
              "\n",
              "  <style>\n",
              "    .colab-df-container {\n",
              "      display:flex;\n",
              "      gap: 12px;\n",
              "    }\n",
              "\n",
              "    .colab-df-convert {\n",
              "      background-color: #E8F0FE;\n",
              "      border: none;\n",
              "      border-radius: 50%;\n",
              "      cursor: pointer;\n",
              "      display: none;\n",
              "      fill: #1967D2;\n",
              "      height: 32px;\n",
              "      padding: 0 0 0 0;\n",
              "      width: 32px;\n",
              "    }\n",
              "\n",
              "    .colab-df-convert:hover {\n",
              "      background-color: #E2EBFA;\n",
              "      box-shadow: 0px 1px 2px rgba(60, 64, 67, 0.3), 0px 1px 3px 1px rgba(60, 64, 67, 0.15);\n",
              "      fill: #174EA6;\n",
              "    }\n",
              "\n",
              "    .colab-df-buttons div {\n",
              "      margin-bottom: 4px;\n",
              "    }\n",
              "\n",
              "    [theme=dark] .colab-df-convert {\n",
              "      background-color: #3B4455;\n",
              "      fill: #D2E3FC;\n",
              "    }\n",
              "\n",
              "    [theme=dark] .colab-df-convert:hover {\n",
              "      background-color: #434B5C;\n",
              "      box-shadow: 0px 1px 3px 1px rgba(0, 0, 0, 0.15);\n",
              "      filter: drop-shadow(0px 1px 2px rgba(0, 0, 0, 0.3));\n",
              "      fill: #FFFFFF;\n",
              "    }\n",
              "  </style>\n",
              "\n",
              "    <script>\n",
              "      const buttonEl =\n",
              "        document.querySelector('#df-2b0a7b98-5f53-4fe2-adfe-8559fb499477 button.colab-df-convert');\n",
              "      buttonEl.style.display =\n",
              "        google.colab.kernel.accessAllowed ? 'block' : 'none';\n",
              "\n",
              "      async function convertToInteractive(key) {\n",
              "        const element = document.querySelector('#df-2b0a7b98-5f53-4fe2-adfe-8559fb499477');\n",
              "        const dataTable =\n",
              "          await google.colab.kernel.invokeFunction('convertToInteractive',\n",
              "                                                    [key], {});\n",
              "        if (!dataTable) return;\n",
              "\n",
              "        const docLinkHtml = 'Like what you see? Visit the ' +\n",
              "          '<a target=\"_blank\" href=https://colab.research.google.com/notebooks/data_table.ipynb>data table notebook</a>'\n",
              "          + ' to learn more about interactive tables.';\n",
              "        element.innerHTML = '';\n",
              "        dataTable['output_type'] = 'display_data';\n",
              "        await google.colab.output.renderOutput(dataTable, element);\n",
              "        const docLink = document.createElement('div');\n",
              "        docLink.innerHTML = docLinkHtml;\n",
              "        element.appendChild(docLink);\n",
              "      }\n",
              "    </script>\n",
              "  </div>\n",
              "\n",
              "\n",
              "<div id=\"df-8bc53dd2-6645-43b4-aee0-ce95325ad3c9\">\n",
              "  <button class=\"colab-df-quickchart\" onclick=\"quickchart('df-8bc53dd2-6645-43b4-aee0-ce95325ad3c9')\"\n",
              "            title=\"Suggest charts\"\n",
              "            style=\"display:none;\">\n",
              "\n",
              "<svg xmlns=\"http://www.w3.org/2000/svg\" height=\"24px\"viewBox=\"0 0 24 24\"\n",
              "     width=\"24px\">\n",
              "    <g>\n",
              "        <path d=\"M19 3H5c-1.1 0-2 .9-2 2v14c0 1.1.9 2 2 2h14c1.1 0 2-.9 2-2V5c0-1.1-.9-2-2-2zM9 17H7v-7h2v7zm4 0h-2V7h2v10zm4 0h-2v-4h2v4z\"/>\n",
              "    </g>\n",
              "</svg>\n",
              "  </button>\n",
              "\n",
              "<style>\n",
              "  .colab-df-quickchart {\n",
              "      --bg-color: #E8F0FE;\n",
              "      --fill-color: #1967D2;\n",
              "      --hover-bg-color: #E2EBFA;\n",
              "      --hover-fill-color: #174EA6;\n",
              "      --disabled-fill-color: #AAA;\n",
              "      --disabled-bg-color: #DDD;\n",
              "  }\n",
              "\n",
              "  [theme=dark] .colab-df-quickchart {\n",
              "      --bg-color: #3B4455;\n",
              "      --fill-color: #D2E3FC;\n",
              "      --hover-bg-color: #434B5C;\n",
              "      --hover-fill-color: #FFFFFF;\n",
              "      --disabled-bg-color: #3B4455;\n",
              "      --disabled-fill-color: #666;\n",
              "  }\n",
              "\n",
              "  .colab-df-quickchart {\n",
              "    background-color: var(--bg-color);\n",
              "    border: none;\n",
              "    border-radius: 50%;\n",
              "    cursor: pointer;\n",
              "    display: none;\n",
              "    fill: var(--fill-color);\n",
              "    height: 32px;\n",
              "    padding: 0;\n",
              "    width: 32px;\n",
              "  }\n",
              "\n",
              "  .colab-df-quickchart:hover {\n",
              "    background-color: var(--hover-bg-color);\n",
              "    box-shadow: 0 1px 2px rgba(60, 64, 67, 0.3), 0 1px 3px 1px rgba(60, 64, 67, 0.15);\n",
              "    fill: var(--button-hover-fill-color);\n",
              "  }\n",
              "\n",
              "  .colab-df-quickchart-complete:disabled,\n",
              "  .colab-df-quickchart-complete:disabled:hover {\n",
              "    background-color: var(--disabled-bg-color);\n",
              "    fill: var(--disabled-fill-color);\n",
              "    box-shadow: none;\n",
              "  }\n",
              "\n",
              "  .colab-df-spinner {\n",
              "    border: 2px solid var(--fill-color);\n",
              "    border-color: transparent;\n",
              "    border-bottom-color: var(--fill-color);\n",
              "    animation:\n",
              "      spin 1s steps(1) infinite;\n",
              "  }\n",
              "\n",
              "  @keyframes spin {\n",
              "    0% {\n",
              "      border-color: transparent;\n",
              "      border-bottom-color: var(--fill-color);\n",
              "      border-left-color: var(--fill-color);\n",
              "    }\n",
              "    20% {\n",
              "      border-color: transparent;\n",
              "      border-left-color: var(--fill-color);\n",
              "      border-top-color: var(--fill-color);\n",
              "    }\n",
              "    30% {\n",
              "      border-color: transparent;\n",
              "      border-left-color: var(--fill-color);\n",
              "      border-top-color: var(--fill-color);\n",
              "      border-right-color: var(--fill-color);\n",
              "    }\n",
              "    40% {\n",
              "      border-color: transparent;\n",
              "      border-right-color: var(--fill-color);\n",
              "      border-top-color: var(--fill-color);\n",
              "    }\n",
              "    60% {\n",
              "      border-color: transparent;\n",
              "      border-right-color: var(--fill-color);\n",
              "    }\n",
              "    80% {\n",
              "      border-color: transparent;\n",
              "      border-right-color: var(--fill-color);\n",
              "      border-bottom-color: var(--fill-color);\n",
              "    }\n",
              "    90% {\n",
              "      border-color: transparent;\n",
              "      border-bottom-color: var(--fill-color);\n",
              "    }\n",
              "  }\n",
              "</style>\n",
              "\n",
              "  <script>\n",
              "    async function quickchart(key) {\n",
              "      const quickchartButtonEl =\n",
              "        document.querySelector('#' + key + ' button');\n",
              "      quickchartButtonEl.disabled = true;  // To prevent multiple clicks.\n",
              "      quickchartButtonEl.classList.add('colab-df-spinner');\n",
              "      try {\n",
              "        const charts = await google.colab.kernel.invokeFunction(\n",
              "            'suggestCharts', [key], {});\n",
              "      } catch (error) {\n",
              "        console.error('Error during call to suggestCharts:', error);\n",
              "      }\n",
              "      quickchartButtonEl.classList.remove('colab-df-spinner');\n",
              "      quickchartButtonEl.classList.add('colab-df-quickchart-complete');\n",
              "    }\n",
              "    (() => {\n",
              "      let quickchartButtonEl =\n",
              "        document.querySelector('#df-8bc53dd2-6645-43b4-aee0-ce95325ad3c9 button');\n",
              "      quickchartButtonEl.style.display =\n",
              "        google.colab.kernel.accessAllowed ? 'block' : 'none';\n",
              "    })();\n",
              "  </script>\n",
              "</div>\n",
              "\n",
              "    </div>\n",
              "  </div>\n"
            ],
            "application/vnd.google.colaboratory.intrinsic+json": {
              "type": "dataframe",
              "variable_name": "data",
              "summary": "{\n  \"name\": \"data\",\n  \"rows\": 99985,\n  \"fields\": [\n    {\n      \"column\": \"fare_amount\",\n      \"properties\": {\n        \"dtype\": \"number\",\n        \"std\": 9.714576021018187,\n        \"min\": 0.01,\n        \"max\": 200.0,\n        \"num_unique_values\": 923,\n        \"samples\": [\n          56.5,\n          60.7,\n          17.5\n        ],\n        \"semantic_type\": \"\",\n        \"description\": \"\"\n      }\n    },\n    {\n      \"column\": \"pickup_longitude\",\n      \"properties\": {\n        \"dtype\": \"number\",\n        \"std\": 10.486497503209165,\n        \"min\": -78.083332,\n        \"max\": 40.787575,\n        \"num_unique_values\": 51893,\n        \"samples\": [\n          -73.98096,\n          -73.999475,\n          -73.98822\n        ],\n        \"semantic_type\": \"\",\n        \"description\": \"\"\n      }\n    },\n    {\n      \"column\": \"pickup_latitude\",\n      \"properties\": {\n        \"dtype\": \"number\",\n        \"std\": 6.120476056031183,\n        \"min\": -74.00767,\n        \"max\": 69.4,\n        \"num_unique_values\": 58023,\n        \"samples\": [\n          40.75485610961913,\n          40.75917,\n          40.742656\n        ],\n        \"semantic_type\": \"\",\n        \"description\": \"\"\n      }\n    },\n    {\n      \"column\": \"dropoff_longitude\",\n      \"properties\": {\n        \"dtype\": \"number\",\n        \"std\": 10.469648006220913,\n        \"min\": -84.654241,\n        \"max\": 40.851027,\n        \"num_unique_values\": 54493,\n        \"samples\": [\n          -73.98200988769531,\n          -73.945168,\n          -73.984398\n        ],\n        \"semantic_type\": \"\",\n        \"description\": \"\"\n      }\n    },\n    {\n      \"column\": \"dropoff_latitude\",\n      \"properties\": {\n        \"dtype\": \"number\",\n        \"std\": 6.104602110039982,\n        \"min\": -74.006377,\n        \"max\": 43.41519,\n        \"num_unique_values\": 61080,\n        \"samples\": [\n          40.753237,\n          40.712217,\n          40.773559\n        ],\n        \"semantic_type\": \"\",\n        \"description\": \"\"\n      }\n    },\n    {\n      \"column\": \"passenger_count\",\n      \"properties\": {\n        \"dtype\": \"number\",\n        \"std\": 1,\n        \"min\": 0,\n        \"max\": 6,\n        \"num_unique_values\": 7,\n        \"samples\": [\n          1,\n          2,\n          4\n        ],\n        \"semantic_type\": \"\",\n        \"description\": \"\"\n      }\n    },\n    {\n      \"column\": \"year\",\n      \"properties\": {\n        \"dtype\": \"number\",\n        \"std\": 1,\n        \"min\": 2009,\n        \"max\": 2015,\n        \"num_unique_values\": 7,\n        \"samples\": [\n          2009,\n          2010,\n          2014\n        ],\n        \"semantic_type\": \"\",\n        \"description\": \"\"\n      }\n    },\n    {\n      \"column\": \"month\",\n      \"properties\": {\n        \"dtype\": \"number\",\n        \"std\": 3,\n        \"min\": 1,\n        \"max\": 12,\n        \"num_unique_values\": 12,\n        \"samples\": [\n          5,\n          2,\n          6\n        ],\n        \"semantic_type\": \"\",\n        \"description\": \"\"\n      }\n    },\n    {\n      \"column\": \"day\",\n      \"properties\": {\n        \"dtype\": \"number\",\n        \"std\": 8,\n        \"min\": 1,\n        \"max\": 31,\n        \"num_unique_values\": 31,\n        \"samples\": [\n          25,\n          7,\n          14\n        ],\n        \"semantic_type\": \"\",\n        \"description\": \"\"\n      }\n    },\n    {\n      \"column\": \"hour\",\n      \"properties\": {\n        \"dtype\": \"number\",\n        \"std\": 6,\n        \"min\": 0,\n        \"max\": 23,\n        \"num_unique_values\": 24,\n        \"samples\": [\n          1,\n          21,\n          17\n        ],\n        \"semantic_type\": \"\",\n        \"description\": \"\"\n      }\n    },\n    {\n      \"column\": \"distance\",\n      \"properties\": {\n        \"dtype\": \"number\",\n        \"std\": 355.4269094545691,\n        \"min\": 0.0,\n        \"max\": 8674.63381152127,\n        \"num_unique_values\": 97069,\n        \"samples\": [\n          1.1264644332103642,\n          1.173813422680655,\n          2.834405705059798\n        ],\n        \"semantic_type\": \"\",\n        \"description\": \"\"\n      }\n    }\n  ]\n}"
            }
          },
          "metadata": {},
          "execution_count": 81
        }
      ]
    },
    {
      "cell_type": "markdown",
      "source": [
        "Time for some Geography\n",
        "\n",
        "Latitude and longitude values are used to represent geographical coordinates on the Earth's surface. They are measured in degrees and have specific ranges that correspond to valid locations on Earth.\n",
        "\n",
        "Latitude values range from -90 to +90 degrees, where -90 represents the South Pole, 0 represents the Equator, and +90 represents the North Pole.\n",
        "\n",
        "Longitude values range from -180 to +180 degrees, where -180 corresponds to the Prime Meridian (which passes through Greenwich, London), and +180 corresponds to the 180th meridian, which is on the opposite side of the Earth.\n",
        "\n",
        "These ranges are based on the Earth's geometry and are used to ensure that latitude and longitude values correspond to actual locations on the Earth's surface. If a latitude or longitude value is outside its respective range, it is considered invalid and most likely represents an error in the data."
      ],
      "metadata": {
        "id": "T7RWM-hFX6f0"
      }
    },
    {
      "cell_type": "markdown",
      "source": [
        "   **Task**: Create a histogram plot to visualize the distribution of the `fare_amount` column in the 'data' DataFrame. Use Seaborn's `histplot` function with kernel density estimation (kde) enabled. Add a title \"Distribution of Fare Amount\" and an x-axis label \"Fare Amount\". Display the plot using `plt.show()`."
      ],
      "metadata": {
        "id": "uCE_-mCbMI5t"
      }
    },
    {
      "cell_type": "code",
      "source": [
        "# Plot the distribution of fare_amount\n",
        "# TODO - Write your solution here\n",
        "sns.set(style=\"whitegrid\")\n",
        "sns.histplot(data= data['fare_amount'],kde=True )\n",
        "plt.title (\"Distribution of fare_amount\")\n",
        "plt.xlabel(\"Fare Amount\")\n",
        "plt.ylabel(\"Distribution of Fare Amount\")\n",
        "plt.show()\n",
        "\n"
      ],
      "metadata": {
        "id": "sUBuEocIYXWA",
        "colab": {
          "base_uri": "https://localhost:8080/",
          "height": 480
        },
        "outputId": "2cbab830-d5aa-4d48-a1c5-597bad677370"
      },
      "execution_count": 82,
      "outputs": [
        {
          "output_type": "display_data",
          "data": {
            "text/plain": [
              "<Figure size 640x480 with 1 Axes>"
            ],
            "image/png": "[encoded data removed]"
          },
          "metadata": {}
        }
      ]
    },
    {
      "cell_type": "code",
      "source": [
        "data[:10]"
      ],
      "metadata": {
        "id": "a1o4jG-HYlt6",
        "colab": {
          "base_uri": "https://localhost:8080/",
          "height": 383
        },
        "outputId": "2f2e3cbc-b884-4f27-c0cf-259a908b9782"
      },
      "execution_count": 83,
      "outputs": [
        {
          "output_type": "execute_result",
          "data": {
            "text/plain": [
              "   fare_amount  pickup_longitude  pickup_latitude  dropoff_longitude  \\\n",
              "0          4.5        -73.844311        40.721319         -73.841610   \n",
              "1         16.9        -74.016048        40.711303         -73.979268   \n",
              "2          5.7        -73.982738        40.761270         -73.991242   \n",
              "3          7.7        -73.987130        40.733143         -73.991567   \n",
              "4          5.3        -73.968095        40.768008         -73.956655   \n",
              "5         12.1        -74.000964        40.731630         -73.972892   \n",
              "6          7.5        -73.980002        40.751662         -73.973802   \n",
              "7         16.5        -73.951300        40.774138         -73.990095   \n",
              "8          9.0        -74.006462        40.726713         -73.993078   \n",
              "9          8.9        -73.980658        40.733873         -73.991540   \n",
              "\n",
              "   dropoff_latitude  passenger_count  year  month  day  hour  distance  \n",
              "0         40.712278                1  2009      6   15    17  1.030765  \n",
              "1         40.782004                1  2010      1    5    16  8.450145  \n",
              "2         40.750562                2  2011      8   18     0  1.389527  \n",
              "3         40.758092                1  2012      4   21     4  2.799274  \n",
              "4         40.783762                1  2010      3    9     7  1.999160  \n",
              "5         40.758233                1  2011      1    6     9  3.787244  \n",
              "6         40.764842                1  2012     11   20    20  1.555809  \n",
              "7         40.751048                1  2012      1    4    17  4.155450  \n",
              "8         40.731628                1  2012     12    3    13  1.253233  \n",
              "9         40.758138                2  2009      9    2     1  2.849631  "
            ],
            "text/html": [
              "\n",
              "  <div id=\"df-edaa5a14-e75b-4831-9b90-a8958a79bb8c\" class=\"colab-df-container\">\n",
              "    <div>\n",
              "<style scoped>\n",
              "    .dataframe tbody tr th:only-of-type {\n",
              "        vertical-align: middle;\n",
              "    }\n",
              "\n",
              "    .dataframe tbody tr th {\n",
              "        vertical-align: top;\n",
              "    }\n",
              "\n",
              "    .dataframe thead th {\n",
              "        text-align: right;\n",
              "    }\n",
              "</style>\n",
              "<table border=\"1\" class=\"dataframe\">\n",
              "  <thead>\n",
              "    <tr style=\"text-align: right;\">\n",
              "      <th></th>\n",
              "      <th>fare_amount</th>\n",
              "      <th>pickup_longitude</th>\n",
              "      <th>pickup_latitude</th>\n",
              "      <th>dropoff_longitude</th>\n",
              "      <th>dropoff_latitude</th>\n",
              "      <th>passenger_count</th>\n",
              "      <th>year</th>\n",
              "      <th>month</th>\n",
              "      <th>day</th>\n",
              "      <th>hour</th>\n",
              "      <th>distance</th>\n",
              "    </tr>\n",
              "  </thead>\n",
              "  <tbody>\n",
              "    <tr>\n",
              "      <th>0</th>\n",
              "      <td>4.5</td>\n",
              "      <td>-73.844311</td>\n",
              "      <td>40.721319</td>\n",
              "      <td>-73.841610</td>\n",
              "      <td>40.712278</td>\n",
              "      <td>1</td>\n",
              "      <td>2009</td>\n",
              "      <td>6</td>\n",
              "      <td>15</td>\n",
              "      <td>17</td>\n",
              "      <td>1.030765</td>\n",
              "    </tr>\n",
              "    <tr>\n",
              "      <th>1</th>\n",
              "      <td>16.9</td>\n",
              "      <td>-74.016048</td>\n",
              "      <td>40.711303</td>\n",
              "      <td>-73.979268</td>\n",
              "      <td>40.782004</td>\n",
              "      <td>1</td>\n",
              "      <td>2010</td>\n",
              "      <td>1</td>\n",
              "      <td>5</td>\n",
              "      <td>16</td>\n",
              "      <td>8.450145</td>\n",
              "    </tr>\n",
              "    <tr>\n",
              "      <th>2</th>\n",
              "      <td>5.7</td>\n",
              "      <td>-73.982738</td>\n",
              "      <td>40.761270</td>\n",
              "      <td>-73.991242</td>\n",
              "      <td>40.750562</td>\n",
              "      <td>2</td>\n",
              "      <td>2011</td>\n",
              "      <td>8</td>\n",
              "      <td>18</td>\n",
              "      <td>0</td>\n",
              "      <td>1.389527</td>\n",
              "    </tr>\n",
              "    <tr>\n",
              "      <th>3</th>\n",
              "      <td>7.7</td>\n",
              "      <td>-73.987130</td>\n",
              "      <td>40.733143</td>\n",
              "      <td>-73.991567</td>\n",
              "      <td>40.758092</td>\n",
              "      <td>1</td>\n",
              "      <td>2012</td>\n",
              "      <td>4</td>\n",
              "      <td>21</td>\n",
              "      <td>4</td>\n",
              "      <td>2.799274</td>\n",
              "    </tr>\n",
              "    <tr>\n",
              "      <th>4</th>\n",
              "      <td>5.3</td>\n",
              "      <td>-73.968095</td>\n",
              "      <td>40.768008</td>\n",
              "      <td>-73.956655</td>\n",
              "      <td>40.783762</td>\n",
              "      <td>1</td>\n",
              "      <td>2010</td>\n",
              "      <td>3</td>\n",
              "      <td>9</td>\n",
              "      <td>7</td>\n",
              "      <td>1.999160</td>\n",
              "    </tr>\n",
              "    <tr>\n",
              "      <th>5</th>\n",
              "      <td>12.1</td>\n",
              "      <td>-74.000964</td>\n",
              "      <td>40.731630</td>\n",
              "      <td>-73.972892</td>\n",
              "      <td>40.758233</td>\n",
              "      <td>1</td>\n",
              "      <td>2011</td>\n",
              "      <td>1</td>\n",
              "      <td>6</td>\n",
              "      <td>9</td>\n",
              "      <td>3.787244</td>\n",
              "    </tr>\n",
              "    <tr>\n",
              "      <th>6</th>\n",
              "      <td>7.5</td>\n",
              "      <td>-73.980002</td>\n",
              "      <td>40.751662</td>\n",
              "      <td>-73.973802</td>\n",
              "      <td>40.764842</td>\n",
              "      <td>1</td>\n",
              "      <td>2012</td>\n",
              "      <td>11</td>\n",
              "      <td>20</td>\n",
              "      <td>20</td>\n",
              "      <td>1.555809</td>\n",
              "    </tr>\n",
              "    <tr>\n",
              "      <th>7</th>\n",
              "      <td>16.5</td>\n",
              "      <td>-73.951300</td>\n",
              "      <td>40.774138</td>\n",
              "      <td>-73.990095</td>\n",
              "      <td>40.751048</td>\n",
              "      <td>1</td>\n",
              "      <td>2012</td>\n",
              "      <td>1</td>\n",
              "      <td>4</td>\n",
              "      <td>17</td>\n",
              "      <td>4.155450</td>\n",
              "    </tr>\n",
              "    <tr>\n",
              "      <th>8</th>\n",
              "      <td>9.0</td>\n",
              "      <td>-74.006462</td>\n",
              "      <td>40.726713</td>\n",
              "      <td>-73.993078</td>\n",
              "      <td>40.731628</td>\n",
              "      <td>1</td>\n",
              "      <td>2012</td>\n",
              "      <td>12</td>\n",
              "      <td>3</td>\n",
              "      <td>13</td>\n",
              "      <td>1.253233</td>\n",
              "    </tr>\n",
              "    <tr>\n",
              "      <th>9</th>\n",
              "      <td>8.9</td>\n",
              "      <td>-73.980658</td>\n",
              "      <td>40.733873</td>\n",
              "      <td>-73.991540</td>\n",
              "      <td>40.758138</td>\n",
              "      <td>2</td>\n",
              "      <td>2009</td>\n",
              "      <td>9</td>\n",
              "      <td>2</td>\n",
              "      <td>1</td>\n",
              "      <td>2.849631</td>\n",
              "    </tr>\n",
              "  </tbody>\n",
              "</table>\n",
              "</div>\n",
              "    <div class=\"colab-df-buttons\">\n",
              "\n",
              "  <div class=\"colab-df-container\">\n",
              "    <button class=\"colab-df-convert\" onclick=\"convertToInteractive('df-edaa5a14-e75b-4831-9b90-a8958a79bb8c')\"\n",
              "            title=\"Convert this dataframe to an interactive table.\"\n",
              "            style=\"display:none;\">\n",
              "\n",
              "  <svg xmlns=\"http://www.w3.org/2000/svg\" height=\"24px\" viewBox=\"0 -960 960 960\">\n",
              "    <path d=\"M120-120v-720h720v720H120Zm60-500h600v-160H180v160Zm220 220h160v-160H400v160Zm0 220h160v-160H400v160ZM180-400h160v-160H180v160Zm440 0h160v-160H620v160ZM180-180h160v-160H180v160Zm440 0h160v-160H620v160Z\"/>\n",
              "  </svg>\n",
              "    </button>\n",
              "\n",
              "  <style>\n",
              "    .colab-df-container {\n",
              "      display:flex;\n",
              "      gap: 12px;\n",
              "    }\n",
              "\n",
              "    .colab-df-convert {\n",
              "      background-color: #E8F0FE;\n",
              "      border: none;\n",
              "      border-radius: 50%;\n",
              "      cursor: pointer;\n",
              "      display: none;\n",
              "      fill: #1967D2;\n",
              "      height: 32px;\n",
              "      padding: 0 0 0 0;\n",
              "      width: 32px;\n",
              "    }\n",
              "\n",
              "    .colab-df-convert:hover {\n",
              "      background-color: #E2EBFA;\n",
              "      box-shadow: 0px 1px 2px rgba(60, 64, 67, 0.3), 0px 1px 3px 1px rgba(60, 64, 67, 0.15);\n",
              "      fill: #174EA6;\n",
              "    }\n",
              "\n",
              "    .colab-df-buttons div {\n",
              "      margin-bottom: 4px;\n",
              "    }\n",
              "\n",
              "    [theme=dark] .colab-df-convert {\n",
              "      background-color: #3B4455;\n",
              "      fill: #D2E3FC;\n",
              "    }\n",
              "\n",
              "    [theme=dark] .colab-df-convert:hover {\n",
              "      background-color: #434B5C;\n",
              "      box-shadow: 0px 1px 3px 1px rgba(0, 0, 0, 0.15);\n",
              "      filter: drop-shadow(0px 1px 2px rgba(0, 0, 0, 0.3));\n",
              "      fill: #FFFFFF;\n",
              "    }\n",
              "  </style>\n",
              "\n",
              "    <script>\n",
              "      const buttonEl =\n",
              "        document.querySelector('#df-edaa5a14-e75b-4831-9b90-a8958a79bb8c button.colab-df-convert');\n",
              "      buttonEl.style.display =\n",
              "        google.colab.kernel.accessAllowed ? 'block' : 'none';\n",
              "\n",
              "      async function convertToInteractive(key) {\n",
              "        const element = document.querySelector('#df-edaa5a14-e75b-4831-9b90-a8958a79bb8c');\n",
              "        const dataTable =\n",
              "          await google.colab.kernel.invokeFunction('convertToInteractive',\n",
              "                                                    [key], {});\n",
              "        if (!dataTable) return;\n",
              "\n",
              "        const docLinkHtml = 'Like what you see? Visit the ' +\n",
              "          '<a target=\"_blank\" href=https://colab.research.google.com/notebooks/data_table.ipynb>data table notebook</a>'\n",
              "          + ' to learn more about interactive tables.';\n",
              "        element.innerHTML = '';\n",
              "        dataTable['output_type'] = 'display_data';\n",
              "        await google.colab.output.renderOutput(dataTable, element);\n",
              "        const docLink = document.createElement('div');\n",
              "        docLink.innerHTML = docLinkHtml;\n",
              "        element.appendChild(docLink);\n",
              "      }\n",
              "    </script>\n",
              "  </div>\n",
              "\n",
              "\n",
              "<div id=\"df-66b8c6aa-5e16-44d4-908b-d3e60af0a2e0\">\n",
              "  <button class=\"colab-df-quickchart\" onclick=\"quickchart('df-66b8c6aa-5e16-44d4-908b-d3e60af0a2e0')\"\n",
              "            title=\"Suggest charts\"\n",
              "            style=\"display:none;\">\n",
              "\n",
              "<svg xmlns=\"http://www.w3.org/2000/svg\" height=\"24px\"viewBox=\"0 0 24 24\"\n",
              "     width=\"24px\">\n",
              "    <g>\n",
              "        <path d=\"M19 3H5c-1.1 0-2 .9-2 2v14c0 1.1.9 2 2 2h14c1.1 0 2-.9 2-2V5c0-1.1-.9-2-2-2zM9 17H7v-7h2v7zm4 0h-2V7h2v10zm4 0h-2v-4h2v4z\"/>\n",
              "    </g>\n",
              "</svg>\n",
              "  </button>\n",
              "\n",
              "<style>\n",
              "  .colab-df-quickchart {\n",
              "      --bg-color: #E8F0FE;\n",
              "      --fill-color: #1967D2;\n",
              "      --hover-bg-color: #E2EBFA;\n",
              "      --hover-fill-color: #174EA6;\n",
              "      --disabled-fill-color: #AAA;\n",
              "      --disabled-bg-color: #DDD;\n",
              "  }\n",
              "\n",
              "  [theme=dark] .colab-df-quickchart {\n",
              "      --bg-color: #3B4455;\n",
              "      --fill-color: #D2E3FC;\n",
              "      --hover-bg-color: #434B5C;\n",
              "      --hover-fill-color: #FFFFFF;\n",
              "      --disabled-bg-color: #3B4455;\n",
              "      --disabled-fill-color: #666;\n",
              "  }\n",
              "\n",
              "  .colab-df-quickchart {\n",
              "    background-color: var(--bg-color);\n",
              "    border: none;\n",
              "    border-radius: 50%;\n",
              "    cursor: pointer;\n",
              "    display: none;\n",
              "    fill: var(--fill-color);\n",
              "    height: 32px;\n",
              "    padding: 0;\n",
              "    width: 32px;\n",
              "  }\n",
              "\n",
              "  .colab-df-quickchart:hover {\n",
              "    background-color: var(--hover-bg-color);\n",
              "    box-shadow: 0 1px 2px rgba(60, 64, 67, 0.3), 0 1px 3px 1px rgba(60, 64, 67, 0.15);\n",
              "    fill: var(--button-hover-fill-color);\n",
              "  }\n",
              "\n",
              "  .colab-df-quickchart-complete:disabled,\n",
              "  .colab-df-quickchart-complete:disabled:hover {\n",
              "    background-color: var(--disabled-bg-color);\n",
              "    fill: var(--disabled-fill-color);\n",
              "    box-shadow: none;\n",
              "  }\n",
              "\n",
              "  .colab-df-spinner {\n",
              "    border: 2px solid var(--fill-color);\n",
              "    border-color: transparent;\n",
              "    border-bottom-color: var(--fill-color);\n",
              "    animation:\n",
              "      spin 1s steps(1) infinite;\n",
              "  }\n",
              "\n",
              "  @keyframes spin {\n",
              "    0% {\n",
              "      border-color: transparent;\n",
              "      border-bottom-color: var(--fill-color);\n",
              "      border-left-color: var(--fill-color);\n",
              "    }\n",
              "    20% {\n",
              "      border-color: transparent;\n",
              "      border-left-color: var(--fill-color);\n",
              "      border-top-color: var(--fill-color);\n",
              "    }\n",
              "    30% {\n",
              "      border-color: transparent;\n",
              "      border-left-color: var(--fill-color);\n",
              "      border-top-color: var(--fill-color);\n",
              "      border-right-color: var(--fill-color);\n",
              "    }\n",
              "    40% {\n",
              "      border-color: transparent;\n",
              "      border-right-color: var(--fill-color);\n",
              "      border-top-color: var(--fill-color);\n",
              "    }\n",
              "    60% {\n",
              "      border-color: transparent;\n",
              "      border-right-color: var(--fill-color);\n",
              "    }\n",
              "    80% {\n",
              "      border-color: transparent;\n",
              "      border-right-color: var(--fill-color);\n",
              "      border-bottom-color: var(--fill-color);\n",
              "    }\n",
              "    90% {\n",
              "      border-color: transparent;\n",
              "      border-bottom-color: var(--fill-color);\n",
              "    }\n",
              "  }\n",
              "</style>\n",
              "\n",
              "  <script>\n",
              "    async function quickchart(key) {\n",
              "      const quickchartButtonEl =\n",
              "        document.querySelector('#' + key + ' button');\n",
              "      quickchartButtonEl.disabled = true;  // To prevent multiple clicks.\n",
              "      quickchartButtonEl.classList.add('colab-df-spinner');\n",
              "      try {\n",
              "        const charts = await google.colab.kernel.invokeFunction(\n",
              "            'suggestCharts', [key], {});\n",
              "      } catch (error) {\n",
              "        console.error('Error during call to suggestCharts:', error);\n",
              "      }\n",
              "      quickchartButtonEl.classList.remove('colab-df-spinner');\n",
              "      quickchartButtonEl.classList.add('colab-df-quickchart-complete');\n",
              "    }\n",
              "    (() => {\n",
              "      let quickchartButtonEl =\n",
              "        document.querySelector('#df-66b8c6aa-5e16-44d4-908b-d3e60af0a2e0 button');\n",
              "      quickchartButtonEl.style.display =\n",
              "        google.colab.kernel.accessAllowed ? 'block' : 'none';\n",
              "    })();\n",
              "  </script>\n",
              "</div>\n",
              "\n",
              "    </div>\n",
              "  </div>\n"
            ],
            "application/vnd.google.colaboratory.intrinsic+json": {
              "type": "dataframe",
              "summary": "{\n  \"name\": \"data[:10]\",\n  \"rows\": 10,\n  \"fields\": [\n    {\n      \"column\": \"fare_amount\",\n      \"properties\": {\n        \"dtype\": \"number\",\n        \"std\": 4.414232033371653,\n        \"min\": 4.5,\n        \"max\": 16.9,\n        \"num_unique_values\": 10,\n        \"samples\": [\n          9.0,\n          16.9,\n          12.1\n        ],\n        \"semantic_type\": \"\",\n        \"description\": \"\"\n      }\n    },\n    {\n      \"column\": \"pickup_longitude\",\n      \"properties\": {\n        \"dtype\": \"number\",\n        \"std\": 0.04853140790090701,\n        \"min\": -74.016048,\n        \"max\": -73.844311,\n        \"num_unique_values\": 10,\n        \"samples\": [\n          -74.006462,\n          -74.016048,\n          -74.000964\n        ],\n        \"semantic_type\": \"\",\n        \"description\": \"\"\n      }\n    },\n    {\n      \"column\": \"pickup_latitude\",\n      \"properties\": {\n        \"dtype\": \"number\",\n        \"std\": 0.021147287509014453,\n        \"min\": 40.711303,\n        \"max\": 40.774138,\n        \"num_unique_values\": 10,\n        \"samples\": [\n          40.726713,\n          40.711303,\n          40.73163\n        ],\n        \"semantic_type\": \"\",\n        \"description\": \"\"\n      }\n    },\n    {\n      \"column\": \"dropoff_longitude\",\n      \"properties\": {\n        \"dtype\": \"number\",\n        \"std\": 0.04601233974453591,\n        \"min\": -73.993078,\n        \"max\": -73.84161,\n        \"num_unique_values\": 10,\n        \"samples\": [\n          -73.993078,\n          -73.979268,\n          -73.972892\n        ],\n        \"semantic_type\": \"\",\n        \"description\": \"\"\n      }\n    },\n    {\n      \"column\": \"dropoff_latitude\",\n      \"properties\": {\n        \"dtype\": \"number\",\n        \"std\": 0.02131742318204207,\n        \"min\": 40.712278,\n        \"max\": 40.783762,\n        \"num_unique_values\": 10,\n        \"samples\": [\n          40.731628,\n          40.782004,\n          40.758233\n        ],\n        \"semantic_type\": \"\",\n        \"description\": \"\"\n      }\n    },\n    {\n      \"column\": \"passenger_count\",\n      \"properties\": {\n        \"dtype\": \"number\",\n        \"std\": 0,\n        \"min\": 1,\n        \"max\": 2,\n        \"num_unique_values\": 2,\n        \"samples\": [\n          2,\n          1\n        ],\n        \"semantic_type\": \"\",\n        \"description\": \"\"\n      }\n    },\n    {\n      \"column\": \"year\",\n      \"properties\": {\n        \"dtype\": \"number\",\n        \"std\": 1,\n        \"min\": 2009,\n        \"max\": 2012,\n        \"num_unique_values\": 4,\n        \"samples\": [\n          2010,\n          2012\n        ],\n        \"semantic_type\": \"\",\n        \"description\": \"\"\n      }\n    },\n    {\n      \"column\": \"month\",\n      \"properties\": {\n        \"dtype\": \"number\",\n        \"std\": 4,\n        \"min\": 1,\n        \"max\": 12,\n        \"num_unique_values\": 8,\n        \"samples\": [\n          1,\n          11\n        ],\n        \"semantic_type\": \"\",\n        \"description\": \"\"\n      }\n    },\n    {\n      \"column\": \"day\",\n      \"properties\": {\n        \"dtype\": \"number\",\n        \"std\": 7,\n        \"min\": 2,\n        \"max\": 21,\n        \"num_unique_values\": 10,\n        \"samples\": [\n          3,\n          5\n        ],\n        \"semantic_type\": \"\",\n        \"description\": \"\"\n      }\n    },\n    {\n      \"column\": \"hour\",\n      \"properties\": {\n        \"dtype\": \"number\",\n        \"std\": 7,\n        \"min\": 0,\n        \"max\": 20,\n        \"num_unique_values\": 9,\n        \"samples\": [\n          13,\n          16\n        ],\n        \"semantic_type\": \"\",\n        \"description\": \"\"\n      }\n    },\n    {\n      \"column\": \"distance\",\n      \"properties\": {\n        \"dtype\": \"number\",\n        \"std\": 2.2180727431902834,\n        \"min\": 1.0307653588012937,\n        \"max\": 8.450145267627628,\n        \"num_unique_values\": 10,\n        \"samples\": [\n          1.2532332437623896,\n          8.450145267627628\n        ],\n        \"semantic_type\": \"\",\n        \"description\": \"\"\n      }\n    }\n  ]\n}"
            }
          },
          "metadata": {},
          "execution_count": 83
        }
      ]
    },
    {
      "cell_type": "markdown",
      "source": [
        "**Task**: Create a count plot to visualize the distribution of the `passenger_count` column in the 'data' DataFrame. Use Seaborn's `countplot` function. Add a title \"Distribution of Passenger Count\", an x-axis label \"Passenger Count\", and a y-axis label \"Frequency\". Display the plot using `plt.show()`.|\n"
      ],
      "metadata": {
        "id": "xsZmnuw9W9dY"
      }
    },
    {
      "cell_type": "code",
      "source": [
        "# Plot the distribution of passenger_count\n",
        "# TODO - Write your solution here\n",
        "sns.set(style=\"whitegrid\")\n",
        "sns.countplot(x = data['passenger_count'])\n",
        "plt.xlabel(\"Passenger Count\")\n",
        "plt.ylabel(\"Frequency\")\n",
        "plt.title(\"Distribution of Passenger Count\")"
      ],
      "metadata": {
        "id": "DWZV9FBHYfWT",
        "colab": {
          "base_uri": "https://localhost:8080/",
          "height": 498
        },
        "outputId": "35312bb7-13e3-436a-c46b-d35e010aab5d"
      },
      "execution_count": 58,
      "outputs": [
        {
          "output_type": "execute_result",
          "data": {
            "text/plain": [
              "Text(0.5, 1.0, 'Distribution of Passenger Count')"
            ]
          },
          "metadata": {},
          "execution_count": 58
        },
        {
          "output_type": "display_data",
          "data": {
            "text/plain": [
              "<Figure size 640x480 with 1 Axes>"
            ],
            "image/png": "[encoded data removed]"
          },
          "metadata": {}
        }
      ]
    },
    {
      "cell_type": "markdown",
      "source": [
        "**Task**: Create a histogram plot to visualize the distribution of the `distance` column in the 'data' DataFrame. Use Seaborn's `histplot` function with kernel density estimation (kde) enabled. Add a title \"Distribution of Distance\" and an x-axis label \"Distance\". Display the plot using `plt.show()`."
      ],
      "metadata": {
        "id": "6qoKEwQFXZdx"
      }
    },
    {
      "cell_type": "code",
      "source": [
        "# Plot the distribution of distance\n",
        "# TODO - Write your solution here\n",
        "#sns.set(style=\"whitegrid\")\n",
        "sns.histplot(data.loc[data['distance'] < 30,'distance'],kde=True )\n",
        "plt.title (\"Distribution of Distance\")\n",
        "plt.xlabel(\"Distance\")\n",
        "plt.xlim(0,15)\n",
        "#plt.ylabel(\"Distribution of Fare Amount\")\n",
        "plt.show()\n",
        "\n"
      ],
      "metadata": {
        "id": "0tY4Mo4PYti7",
        "colab": {
          "base_uri": "https://localhost:8080/",
          "height": 480
        },
        "outputId": "64cc0211-114b-478c-a00b-235457fa9ac2"
      },
      "execution_count": 59,
      "outputs": [
        {
          "output_type": "display_data",
          "data": {
            "text/plain": [
              "<Figure size 640x480 with 1 Axes>"
            ],
            "image/png": "[encoded data removed]"
          },
          "metadata": {}
        }
      ]
    },
    {
      "cell_type": "markdown",
      "source": [
        "**Task**: Create a heatmap to visualize the correlations between the features in the 'data' DataFrame. Use Seaborn's `heatmap` function with annotations enabled and a \"coolwarm\" colormap. Add a title \"Correlation Heatmap\". Display the plot using `plt.show()`."
      ],
      "metadata": {
        "id": "uNcp3SLPXtsN"
      }
    },
    {
      "cell_type": "code",
      "source": [
        "# Plot the heatmap of correlations between features\n",
        "# TODO - Write your solution here\n",
        "sns.heatmap(data.loc[data['distance'] <= 30].corr(), cmap=\"coolwarm\")\n",
        "plt.title(\"Correlation Heatmap\")"
      ],
      "metadata": {
        "id": "JCcoJm5EZWWE",
        "colab": {
          "base_uri": "https://localhost:8080/",
          "height": 594
        },
        "outputId": "a890fd89-14e8-4450-e9b6-c5c34cda322d"
      },
      "execution_count": 60,
      "outputs": [
        {
          "output_type": "execute_result",
          "data": {
            "text/plain": [
              "Text(0.5, 1.0, 'Correlation Heatmap')"
            ]
          },
          "metadata": {},
          "execution_count": 60
        },
        {
          "output_type": "display_data",
          "data": {
            "text/plain": [
              "<Figure size 640x480 with 2 Axes>"
            ],
            "image/png": "[encoded data removed]"
          },
          "metadata": {}
        }
      ]
    },
    {
      "cell_type": "markdown",
      "source": [
        "**Task**: Create a line plot to visualize the average `fare_amount` by hour in the 'data' DataFrame. Calculate the average fare amount for each hour using the `groupby` method. Use Seaborn's `lineplot` function to create the plot. Add a title \"Average Fare Amount by Hour\", an x-axis label \"Hour\", and a y-axis label \"Average Fare Amount\". Display the plot using `plt.show()`."
      ],
      "metadata": {
        "id": "Lne4YSXgYSQ9"
      }
    },
    {
      "cell_type": "code",
      "source": [
        "# Plot the average fare_amount by hour\n",
        "# TODO - Write your solution here\n",
        "avgmt = data.groupby('hour')['fare_amount'].mean()\n",
        "sns.lineplot(avgmt)\n",
        "plt.title('Average Fare Amount by Hour')\n",
        "plt.xlabel('Hour')\n",
        "plt.ylabel('Average Fare Amount')\n",
        "plt.show()"
      ],
      "metadata": {
        "id": "ezEvWorLZjsW",
        "colab": {
          "base_uri": "https://localhost:8080/",
          "height": 480
        },
        "outputId": "64ecf414-2c15-4a4d-bdfd-fb917e86b2f0"
      },
      "execution_count": null,
      "outputs": [
        {
          "output_type": "display_data",
          "data": {
            "text/plain": [
              "<Figure size 640x480 with 1 Axes>"
            ],
            "image/png": "[encoded data removed]"
          },
          "metadata": {}
        }
      ]
    },
    {
      "cell_type": "markdown",
      "source": [
        "**Task**: Create a line plot to visualize the average `fare_amount` by month in the 'data' DataFrame. Calculate the average fare amount for each month using the `groupby` method. Use Seaborn's `lineplot` function to create the plot. Add a title \"Average Fare Amount by Month\", an x-axis label \"Month\", and a y-axis label \"Average Fare Amount\". Display the plot using `plt.show()`."
      ],
      "metadata": {
        "id": "192xuEFOYlKo"
      }
    },
    {
      "cell_type": "code",
      "source": [
        "# Plot the average fare_amount by month\n",
        "# TODO - Write your solution here\n",
        "\n",
        "avgmt = data.groupby('month')['fare_amount'].mean()\n",
        "sns.lineplot(avgmt)\n",
        "plt.title('Average Fare Amount by Hour')\n",
        "plt.xlabel('Month')\n",
        "plt.ylabel('Average Fare Amount')\n",
        "plt.show()"
      ],
      "metadata": {
        "id": "uuTMthS2ZnhQ",
        "colab": {
          "base_uri": "https://localhost:8080/",
          "height": 480
        },
        "outputId": "79cfd394-b8de-43d2-e384-bee10c74ab91"
      },
      "execution_count": null,
      "outputs": [
        {
          "output_type": "display_data",
          "data": {
            "text/plain": [
              "<Figure size 640x480 with 1 Axes>"
            ],
            "image/png": "[encoded data removed]"
          },
          "metadata": {}
        }
      ]
    },
    {
      "cell_type": "markdown",
      "source": [
        "**Task**: Create a line plot to visualize the average `fare_amount` by year in the 'data' DataFrame. Calculate the average fare amount for each year using the `groupby` method. Use Seaborn's `lineplot` function to create the plot. Add a title \"Average Fare Amount by Year\", an x-axis label \"Year\", and a y-axis label \"Average Fare Amount\". Display the plot using `plt.show()`."
      ],
      "metadata": {
        "id": "9WEh3NgDaAI8"
      }
    },
    {
      "cell_type": "code",
      "source": [
        "# Plot the average fare_amount by month\n",
        "# TODO - Write your solution here\n",
        "avgmt = data.groupby('year')['fare_amount'].mean()\n",
        "sns.lineplot(avgmt)\n",
        "plt.title('Average Fare Amount by Year')\n",
        "plt.xlabel('Year')\n",
        "plt.ylabel('Average Fare Amount')\n",
        "plt.show()"
      ],
      "metadata": {
        "id": "AonN1oC9Zrr5",
        "colab": {
          "base_uri": "https://localhost:8080/",
          "height": 480
        },
        "outputId": "c14e7091-2764-467d-9ae5-37e092851c34"
      },
      "execution_count": null,
      "outputs": [
        {
          "output_type": "display_data",
          "data": {
            "text/plain": [
              "<Figure size 640x480 with 1 Axes>"
            ],
            "image/png": "[encoded data removed]"
          },
          "metadata": {}
        }
      ]
    },
    {
      "cell_type": "markdown",
      "source": [
        "**Task**: Remove outliers from the 'data' DataFrame, assuming data has already been cleaned for missing values and invalid coordinates. Apply the following conditions:\n",
        "- Keep rows with 'fare_amount' between 1 and 200 (inclusive).\n",
        "- Keep rows with 'distance' between 0.1 and 100 (inclusive).\n",
        "- Keep rows with 'passenger_count' between 1 and 6 (inclusive)."
      ],
      "metadata": {
        "id": "huf8Bb_ZaNH7"
      }
    },
    {
      "cell_type": "code",
      "source": [
        "# Remove outliers (assuming data has already been cleaned for missing values and invalid coordinates)\n",
        "data = data[(data['fare_amount'].between(1,200)) & (data['distance'].between(0.1,100)) & (data['passenger_count'].between(1,6))] # TODO - Write your solution here"
      ],
      "metadata": {
        "id": "UVEHF7fnktY5"
      },
      "execution_count": 85,
      "outputs": []
    },
    {
      "cell_type": "code",
      "source": [
        "len(data)"
      ],
      "metadata": {
        "id": "b5uoRFFyk3tl",
        "colab": {
          "base_uri": "https://localhost:8080/"
        },
        "outputId": "36a97110-aa3d-4161-8cfe-ef4524fd2421"
      },
      "execution_count": 86,
      "outputs": [
        {
          "output_type": "execute_result",
          "data": {
            "text/plain": [
              "95913"
            ]
          },
          "metadata": {},
          "execution_count": 86
        }
      ]
    },
    {
      "cell_type": "markdown",
      "source": [
        "# Train Test split"
      ],
      "metadata": {
        "id": "5CNlfz2NQZtW"
      }
    },
    {
      "cell_type": "markdown",
      "source": [
        "**Task**:\n",
        "\n",
        "a. Define the features (X) by dropping the 'fare_amount', 'pickup_longitude', 'pickup_latitude', 'dropoff_longitude', and 'dropoff_latitude' columns from the 'data' DataFrame.\n",
        "\n",
        "b. Scale the features using the `StandardScaler` from the `sklearn.preprocessing` module. Store the scaled features in a variable named `X_scaled`.\n",
        "\n",
        "c. Define the target variable (y) as the 'fare_amount' column from the 'data' DataFrame.\n",
        "\n",
        "d. Split the dataset into training and testing sets using the `train_test_split` function from the `sklearn.model_selection` module. Use an 80-20 split with a random state of 42. Store the split data in the variables `X_train`, `X_test`, `y_train`, and `y_test`."
      ],
      "metadata": {
        "id": "RUNH71O3N18N"
      }
    },
    {
      "cell_type": "code",
      "source": [
        "# Define the features and target variable\n",
        "# a. Define the features (X)\n",
        "\n",
        "X = data.drop(['fare_amount', 'pickup_longitude', 'pickup_latitude', 'dropoff_longitude', 'dropoff_latitude'], axis=1)\n",
        "\n",
        "# b. Scale the features\n",
        "scaler = StandardScaler()\n",
        "#X_scaled = scaler.fit_transform(X)\n",
        "\n",
        "# c. Define the target variable (y)\n",
        "y = data['fare_amount']\n",
        "\n",
        "# d. Split the data into training and testing sets\n",
        "X_train, X_test, y_train, y_test = train_test_split(X, y, test_size=0.2, random_state=42)\n",
        "\n",
        "X_train_scaled = scaler.fit_transform(X_train)\n",
        "X_test_scaled = scaler.fit_transform(X_test)\n",
        "# Split the data into training and testing sets\n",
        "#X_train, X_test, y_train, y_test = train_test_split(X_scaled, y, test_size=0.2, random_state=42)"
      ],
      "metadata": {
        "id": "TTfek43gbJ__"
      },
      "execution_count": 92,
      "outputs": []
    },
    {
      "cell_type": "code",
      "source": [
        "len(X_scaled)"
      ],
      "metadata": {
        "colab": {
          "base_uri": "https://localhost:8080/"
        },
        "id": "0rtf_fIlsi-N",
        "outputId": "3cb72743-0947-41b2-a538-a71d793415ce"
      },
      "execution_count": 89,
      "outputs": [
        {
          "output_type": "execute_result",
          "data": {
            "text/plain": [
              "95913"
            ]
          },
          "metadata": {},
          "execution_count": 89
        }
      ]
    },
    {
      "cell_type": "markdown",
      "source": [
        "# Model Training"
      ],
      "metadata": {
        "id": "JnpbyYnZ-1zw"
      }
    },
    {
      "cell_type": "markdown",
      "source": [
        "**Task**:\n",
        "\n",
        "a. Train a Ridge Regression model with an alpha of 1.0 using the training data (X_train and y_train). Store the trained model in a variable named `ridge_model`.\n",
        "\n",
        "b. Train a Linear Regression model using the training data (X_train and y_train). Store the trained model in a variable named `linear_model`."
      ],
      "metadata": {
        "id": "Pv-yJbitOdqR"
      }
    },
    {
      "cell_type": "code",
      "source": [
        "# Train the Ridge Regression model\n",
        "ridge_model = Ridge(alpha=1.0)\n",
        "ridge_model.fit(X_train_scaled, y_train)\n",
        "\n",
        "# Train the Linear Regression model\n",
        "linear_model = LinearRegression()\n",
        "linear_model.fit(X_train_scaled, y_train)"
      ],
      "metadata": {
        "id": "p3ftKLKlbsPx",
        "colab": {
          "base_uri": "https://localhost:8080/",
          "height": 75
        },
        "outputId": "5289b11e-7141-47c5-91d5-9f72b32d3170"
      },
      "execution_count": 96,
      "outputs": [
        {
          "output_type": "execute_result",
          "data": {
            "text/plain": [
              "LinearRegression()"
            ],
            "text/html": [
              "<style>#sk-container-id-6 {color: black;background-color: white;}#sk-container-id-6 pre{padding: 0;}#sk-container-id-6 div.sk-toggleable {background-color: white;}#sk-container-id-6 label.sk-toggleable__label {cursor: pointer;display: block;width: 100%;margin-bottom: 0;padding: 0.3em;box-sizing: border-box;text-align: center;}#sk-container-id-6 label.sk-toggleable__label-arrow:before {content: \"▸\";float: left;margin-right: 0.25em;color: #696969;}#sk-container-id-6 label.sk-toggleable__label-arrow:hover:before {color: black;}#sk-container-id-6 div.sk-estimator:hover label.sk-toggleable__label-arrow:before {color: black;}#sk-container-id-6 div.sk-toggleable__content {max-height: 0;max-width: 0;overflow: hidden;text-align: left;background-color: #f0f8ff;}#sk-container-id-6 div.sk-toggleable__content pre {margin: 0.2em;color: black;border-radius: 0.25em;background-color: #f0f8ff;}#sk-container-id-6 input.sk-toggleable__control:checked~div.sk-toggleable__content {max-height: 200px;max-width: 100%;overflow: auto;}#sk-container-id-6 input.sk-toggleable__control:checked~label.sk-toggleable__label-arrow:before {content: \"▾\";}#sk-container-id-6 div.sk-estimator input.sk-toggleable__control:checked~label.sk-toggleable__label {background-color: #d4ebff;}#sk-container-id-6 div.sk-label input.sk-toggleable__control:checked~label.sk-toggleable__label {background-color: #d4ebff;}#sk-container-id-6 input.sk-hidden--visually {border: 0;clip: rect(1px 1px 1px 1px);clip: rect(1px, 1px, 1px, 1px);height: 1px;margin: -1px;overflow: hidden;padding: 0;position: absolute;width: 1px;}#sk-container-id-6 div.sk-estimator {font-family: monospace;background-color: #f0f8ff;border: 1px dotted black;border-radius: 0.25em;box-sizing: border-box;margin-bottom: 0.5em;}#sk-container-id-6 div.sk-estimator:hover {background-color: #d4ebff;}#sk-container-id-6 div.sk-parallel-item::after {content: \"\";width: 100%;border-bottom: 1px solid gray;flex-grow: 1;}#sk-container-id-6 div.sk-label:hover label.sk-toggleable__label {background-color: #d4ebff;}#sk-container-id-6 div.sk-serial::before {content: \"\";position: absolute;border-left: 1px solid gray;box-sizing: border-box;top: 0;bottom: 0;left: 50%;z-index: 0;}#sk-container-id-6 div.sk-serial {display: flex;flex-direction: column;align-items: center;background-color: white;padding-right: 0.2em;padding-left: 0.2em;position: relative;}#sk-container-id-6 div.sk-item {position: relative;z-index: 1;}#sk-container-id-6 div.sk-parallel {display: flex;align-items: stretch;justify-content: center;background-color: white;position: relative;}#sk-container-id-6 div.sk-item::before, #sk-container-id-6 div.sk-parallel-item::before {content: \"\";position: absolute;border-left: 1px solid gray;box-sizing: border-box;top: 0;bottom: 0;left: 50%;z-index: -1;}#sk-container-id-6 div.sk-parallel-item {display: flex;flex-direction: column;z-index: 1;position: relative;background-color: white;}#sk-container-id-6 div.sk-parallel-item:first-child::after {align-self: flex-end;width: 50%;}#sk-container-id-6 div.sk-parallel-item:last-child::after {align-self: flex-start;width: 50%;}#sk-container-id-6 div.sk-parallel-item:only-child::after {width: 0;}#sk-container-id-6 div.sk-dashed-wrapped {border: 1px dashed gray;margin: 0 0.4em 0.5em 0.4em;box-sizing: border-box;padding-bottom: 0.4em;background-color: white;}#sk-container-id-6 div.sk-label label {font-family: monospace;font-weight: bold;display: inline-block;line-height: 1.2em;}#sk-container-id-6 div.sk-label-container {text-align: center;}#sk-container-id-6 div.sk-container {/* jupyter's `normalize.less` sets `[hidden] { display: none; }` but bootstrap.min.css set `[hidden] { display: none !important; }` so we also need the `!important` here to be able to override the default hidden behavior on the sphinx rendered scikit-learn.org. See: https://github.com/scikit-learn/scikit-learn/issues/21755 */display: inline-block !important;position: relative;}#sk-container-id-6 div.sk-text-repr-fallback {display: none;}</style><div id=\"sk-container-id-6\" class=\"sk-top-container\"><div class=\"sk-text-repr-fallback\"><pre>LinearRegression()</pre><b>In a Jupyter environment, please rerun this cell to show the HTML representation or trust the notebook. <br />On GitHub, the HTML representation is unable to render, please try loading this page with nbviewer.org.</b></div><div class=\"sk-container\" hidden><div class=\"sk-item\"><div class=\"sk-estimator sk-toggleable\"><input class=\"sk-toggleable__control sk-hidden--visually\" id=\"sk-estimator-id-6\" type=\"checkbox\" checked><label for=\"sk-estimator-id-6\" class=\"sk-toggleable__label sk-toggleable__label-arrow\">LinearRegression</label><div class=\"sk-toggleable__content\"><pre>LinearRegression()</pre></div></div></div></div></div>"
            ]
          },
          "metadata": {},
          "execution_count": 96
        }
      ]
    },
    {
      "cell_type": "code",
      "source": [
        "ridge_model.coef_"
      ],
      "metadata": {
        "colab": {
          "base_uri": "https://localhost:8080/"
        },
        "id": "AIbkGojZtEtr",
        "outputId": "dd8dd7a9-e7cd-42aa-c35b-3dff3d51739f"
      },
      "execution_count": 97,
      "outputs": [
        {
          "output_type": "execute_result",
          "data": {
            "text/plain": [
              "array([0.05907604, 1.05972218, 0.28226222, 0.01934731, 0.05220742,\n",
              "       7.88906761])"
            ]
          },
          "metadata": {},
          "execution_count": 97
        }
      ]
    },
    {
      "cell_type": "code",
      "source": [
        "linear_model.coef_"
      ],
      "metadata": {
        "colab": {
          "base_uri": "https://localhost:8080/"
        },
        "id": "Cea8RFpSU7Z7",
        "outputId": "7539a38c-0950-4db2-cda3-b1875782a98b"
      },
      "execution_count": 98,
      "outputs": [
        {
          "output_type": "execute_result",
          "data": {
            "text/plain": [
              "array([0.05907552, 1.05973489, 0.28226658, 0.01934783, 0.05221123,\n",
              "       7.88917031])"
            ]
          },
          "metadata": {},
          "execution_count": 98
        }
      ]
    },
    {
      "cell_type": "markdown",
      "source": [
        "a. Use the trained Ridge Regression model to make predictions on the testing data (X_test). Store the predictions in a variable named `ridge_preds`.\n",
        "\n",
        "b. Use the trained Linear Regression model to make predictions on the testing data (X_test). Store the predictions in a variable named `linear_preds`."
      ],
      "metadata": {
        "id": "_Oxd8aq2O0Er"
      }
    },
    {
      "cell_type": "code",
      "source": [
        "# Make predictions using the Ridge Regression model\n",
        "ridge_preds = ridge_model.predict(X_test_scaled)\n",
        "\n",
        "# Make predictions using the Linear Regression model\n",
        "linear_preds = linear_model.predict(X_test_scaled)"
      ],
      "metadata": {
        "id": "Jq9TyQTfceiD"
      },
      "execution_count": 99,
      "outputs": []
    },
    {
      "cell_type": "code",
      "source": [
        "ridge_preds\n"
      ],
      "metadata": {
        "colab": {
          "base_uri": "https://localhost:8080/"
        },
        "id": "AfHGlBSbIKGv",
        "outputId": "090c53e3-0cc3-4c55-ef84-097f0391973d"
      },
      "execution_count": 100,
      "outputs": [
        {
          "output_type": "execute_result",
          "data": {
            "text/plain": [
              "array([ 7.19975389,  9.34153466, 11.92712751, ...,  7.66320917,\n",
              "        5.31210166,  9.43178962])"
            ]
          },
          "metadata": {},
          "execution_count": 100
        }
      ]
    },
    {
      "cell_type": "code",
      "source": [
        "linear_preds"
      ],
      "metadata": {
        "colab": {
          "base_uri": "https://localhost:8080/"
        },
        "id": "DMtunH7NIf7O",
        "outputId": "ef302d2d-f6d5-46d8-b1e4-fa279964cb83"
      },
      "execution_count": 101,
      "outputs": [
        {
          "output_type": "execute_result",
          "data": {
            "text/plain": [
              "array([ 7.19970504,  9.34151575, 11.92713862, ...,  7.66315725,\n",
              "        5.31201915,  9.43176621])"
            ]
          },
          "metadata": {},
          "execution_count": 101
        }
      ]
    },
    {
      "cell_type": "markdown",
      "source": [
        "**Task**:\n",
        "\n",
        "a. Calculate the Root Mean Squared Error (RMSE) for the Ridge Regression model using the true values (y_test) and the predicted values (ridge_preds). Store the result in a variable named `ridge_rmse` and print it.\n",
        "\n",
        "b. Calculate the Root Mean Squared Error (RMSE) for the Linear Regression model using the true values (y_test) and the predicted values (linear_preds). Store the result in a variable named `linear_rmse` and print it.\n"
      ],
      "metadata": {
        "id": "iXEL-QtPPV-o"
      }
    },
    {
      "cell_type": "code",
      "source": [
        "# Calculate the RMSE for the Ridge Regression model\n",
        "ridge_rmse = np.sqrt(mean_squared_error(y_test, ridge_preds))\n",
        "print(f\"Ridge Regression RMSE: {ridge_rmse}\")\n",
        "\n",
        "# Calculate the RMSE for the Linear Regression model\n",
        "linear_rmse = np.sqrt(mean_squared_error(y_test, linear_preds))\n",
        "print(f\"Linear Regression RMSE: {linear_rmse}\")"
      ],
      "metadata": {
        "id": "beHDqovAclFH",
        "colab": {
          "base_uri": "https://localhost:8080/"
        },
        "outputId": "b612266d-77e6-4eac-f8e3-54994f6466a2"
      },
      "execution_count": 102,
      "outputs": [
        {
          "output_type": "stream",
          "name": "stdout",
          "text": [
            "Ridge Regression RMSE: 4.320104982013303\n",
            "Linear Regression RMSE: 4.320096802697606\n"
          ]
        }
      ]
    },
    {
      "cell_type": "markdown",
      "source": [
        "**Task**:\n",
        "\n",
        "a. Perform hyperparameter tuning for the Ridge Regression model using GridSearchCV. Create a dictionary named `ridge_params` with the following keys: 'alpha' and 'solver'. The 'alpha' key should have a list of values: [0.0001, 0.0005, 0.001, 0.005, 0.01, 0.05, 0.1, 1, 10, 100]. The 'solver' key should have a list of values: ['auto', 'svd', 'cholesky', 'lsqr', 'sparse_cg', 'sag', 'saga'].\n",
        "\n",
        "b. Fit the GridSearchCV object with the scaled features (X_scaled) and target variable (y).\n",
        "\n",
        "c. Get the best Ridge Regression model from the GridSearchCV results and store it in a variable named `best_ridge`.\n",
        "\n",
        "d. Re-split the data using the scaled features (X_scaled) and target variable (y) with a test size of 0.2 and a random state of 42. Store the split data in the variables `X_train`, `X_test`, `y_train`, and `y_test`.\n",
        "\n",
        "e. Train the best Ridge Regression model on the training data (X_train and y_train).\n",
        "\n",
        "f. Make predictions on the testing data (X_test) and store the results in a variable named `ridge_preds`.\n",
        "\n",
        "g. Calculate the RMSE for the best Ridge Regression model using the true values (y_test) and the predicted values (ridge_preds). Store the result in a variable named `ridge_rmse` and print it."
      ],
      "metadata": {
        "id": "kPM_WzFPSUB_"
      }
    },
    {
      "cell_type": "code",
      "source": [
        "# Perform hyperparameter tuning for Ridge Regression\n",
        "# Perform hyperparameter tuning for Ridge Regression with additional parameters\n",
        "ridge_params = {\n",
        "    'alpha': [0.0001, 0.0005, 0.001, 0.005, 0.01, 0.05, 0.1, 1, 10, 100],\n",
        "    'solver': ['auto', 'svd', 'cholesky', 'lsqr', 'sparse_cg', 'sag', 'saga']\n",
        "}\n",
        "grid_search = GridSearchCV(ridge_model, param_grid=ridge_params, cv=2,\n",
        "                           scoring='neg_mean_squared_error', n_jobs=-1)\n",
        "grid_search.fit(X_train_scaled, y_train)\n",
        "\n",
        "# Get the best Ridge Regression model\n",
        "best_ridge = grid_search.best_estimator_\n",
        "\n",
        "# Re-split the data using the scaled features and updated dataset\n",
        "#X_train, X_test, y_train, y_test = train_test_split(X_scaled, y, test_size=0.2, random_state=42)\n",
        "\n",
        "# Train the best Ridge Regression model on the training data\n",
        "# TODO - Write your solution here\n",
        "\n",
        "best_ridge.fit(X_train_scaled, y_train)\n",
        "\n",
        "# Make predictions on the testing data\n",
        "ridge_preds = best_ridge.predict(X_test_scaled) # TODO - Write your solution here\n",
        "\n",
        "# Calculate the RMSE for the best Ridge Regression model\n",
        "ridge_rmse = np.sqrt(mean_squared_error(y_test,y_pred= ridge_preds))\n",
        "print(f\"Best Ridge Regression RMSE: {ridge_rmse}\")"
      ],
      "metadata": {
        "id": "67etyaHFlnfJ",
        "colab": {
          "base_uri": "https://localhost:8080/"
        },
        "outputId": "9b278757-f27d-4fcd-bf58-c1b91d4c57e9"
      },
      "execution_count": 108,
      "outputs": [
        {
          "output_type": "stream",
          "name": "stdout",
          "text": [
            "Best Ridge Regression RMSE: 4.320087516235943\n"
          ]
        }
      ]
    }
  ]
}